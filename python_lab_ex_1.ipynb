{
 "cells": [
  {
   "cell_type": "markdown",
   "metadata": {},
   "source": [
    "# Exercises I\n",
    "\n",
    "## MCA171 Python Programming\n",
    "\n",
    "### Department of Computer Science, Christ University Central Campus"
   ]
  },
  {
   "cell_type": "code",
   "execution_count": 1,
   "metadata": {
    "colab": {
     "base_uri": "https://localhost:8080/"
    },
    "id": "UMxU_OrSsDSx",
    "outputId": "6bd73df9-89a5-42ba-ad39-bb723f58cd4d"
   },
   "outputs": [
    {
     "name": "stdout",
     "output_type": "stream",
     "text": [
      "List l: [1, 2, 3, 4]\n",
      "Sum of all items in list: 10\n",
      "Product of all items: 24\n",
      "Largest number of the list: 4\n",
      "Smallest number of the list: 1\n"
     ]
    }
   ],
   "source": [
    "\"\"\"\n",
    "(1) Declare a python datatype list and do the following:\n",
    "  (a) Write a Python program to sum all the items of the list.\n",
    "  (b) Write a Python program to multiply all the items.\n",
    "  (c) Write a Python program to get the largest number from a list.\n",
    "  (d) Write a Python program to get the smallest number from a list.\n",
    "\"\"\"\n",
    "\n",
    "l = [1,2,3,4]\n",
    "print(f'List l: {l}')\n",
    "\n",
    "# (a)\n",
    "print(f'Sum of all items in list: {sum(l)}')\n",
    "\n",
    "# (b)\n",
    "def prod_items(array):\n",
    "  prod = 1\n",
    "  for i in array:\n",
    "    prod *= i\n",
    "  return prod\n",
    "\n",
    "print(f'Product of all items: {prod_items(l)}')\n",
    "\n",
    "# (c)\n",
    "print(f'Largest number of the list: {max(l)}')\n",
    "\n",
    "# (d)\n",
    "print(f'Smallest number of the list: {min(l)}')"
   ]
  },
  {
   "cell_type": "code",
   "execution_count": 2,
   "metadata": {
    "colab": {
     "base_uri": "https://localhost:8080/"
    },
    "id": "mCq3waXP3OpF",
    "outputId": "f7e378d1-f8e6-4e1e-8524-13cfa131200f"
   },
   "outputs": [
    {
     "name": "stdout",
     "output_type": "stream",
     "text": [
      "index: 2, string: aba\n",
      "index: 3, string: 1221\n"
     ]
    }
   ],
   "source": [
    "\"\"\"\n",
    "(2) Let A=[‘abc’, ‘xyz’, ‘aba’, 1221’] be a given string, and write a Python\n",
    "    program that prints the string or strings and their index from the given list,\n",
    "    ensuring that the first and last characters of the strings to be printed are\n",
    "    identical.\n",
    "\"\"\"\n",
    "\n",
    "A=['abc', 'xyz', 'aba','1221']\n",
    "\n",
    "for index, item in enumerate(A):\n",
    "  if item[0] == item[-1]:\n",
    "    print(f'index: {index}, string: {item}')"
   ]
  },
  {
   "cell_type": "code",
   "execution_count": 3,
   "metadata": {
    "colab": {
     "base_uri": "https://localhost:8080/"
    },
    "id": "rQGByMdA3Zan",
    "outputId": "16915604-a466-4ca1-ed6f-239c29875094"
   },
   "outputs": [
    {
     "name": "stdout",
     "output_type": "stream",
     "text": [
      "    A \n",
      "   A B \n",
      "  A B C \n",
      " A B C D \n",
      "A B C D E \n",
      "\n",
      "* \n",
      "* * \n",
      "* * * \n",
      "* * * * \n",
      "* * * * * \n"
     ]
    }
   ],
   "source": [
    "\"\"\"\n",
    "(3) Write a python program to print patterns given below:\n",
    "\n",
    "     A\n",
    "    A B\n",
    "   A B C\n",
    "  A B C D\n",
    " A B C D E\n",
    "\n",
    " *\n",
    " * *\n",
    " * * *\n",
    " * * * *\n",
    " * * * * *\n",
    "\"\"\"\n",
    "\n",
    "def alphabet_pyramid(num_rows):\n",
    "  for i in range(num_rows):\n",
    "    for j in range(num_rows - i - 1):\n",
    "      print(' ', end='')\n",
    "\n",
    "    for k in range(i + 1):\n",
    "      print(chr(65+k), end=' ')\n",
    "\n",
    "    print()\n",
    "\n",
    "alphabet_pyramid(5)\n",
    "\n",
    "def star_pattern(num_rows):\n",
    "  for i in range(num_rows + 1):\n",
    "    for j in range(i):\n",
    "      print(\"*\", end=' ')\n",
    "    print()\n",
    "\n",
    "star_pattern(5)"
   ]
  },
  {
   "cell_type": "code",
   "execution_count": 4,
   "metadata": {
    "colab": {
     "base_uri": "https://localhost:8080/"
    },
    "id": "d7psb2B2FgBL",
    "outputId": "27f86a33-c901-4eae-9242-315d6c0d5be1"
   },
   "outputs": [
    {
     "name": "stdout",
     "output_type": "stream",
     "text": [
      "[{'colorName': 'Black', 'colorCode': '000000'}, {'colorName': 'Red', 'colorCode': 'FF0000'}, {'colorName': 'Maroon', 'colorCode': '800000'}, {'colorName': 'Yellow', 'colorCode': 'FFFF00'}]\n"
     ]
    }
   ],
   "source": [
    "\"\"\"\n",
    "(4) Write a Python program to convert the given list to a list of dictionaries.\n",
    "ListColour= [\"Black\", \"Red\", \"Maroon\", \"Yellow\"], [\"000000\", \"FF0000\",\n",
    "\"800000\", \"FFFF00\"]\n",
    "\n",
    "Expected Output: {'colorName': 'Black', 'colorCode': '000000'}, {'colorName': 'Red', 'colorCode': 'FF0000'}, \n",
    "'colorName': 'Maroon', 'colorCode':'800000'}, {'colorName': 'Yellow', 'colorCode': 'FFFF00'}\n",
    "\"\"\"\n",
    "colorNames = [\"Black\", \"Red\", \"Maroon\", \"Yellow\"]\n",
    "colorCodes = [\"000000\", \"FF0000\", \"800000\", \"FFFF00\"]\n",
    "\n",
    "colorDictList = [ {'colorName': color, 'colorCode': code} for color, code in zip(colorNames, colorCodes) ]\n",
    "\n",
    "print(colorDictList)"
   ]
  },
  {
   "cell_type": "code",
   "execution_count": 5,
   "metadata": {
    "colab": {
     "base_uri": "https://localhost:8080/"
    },
    "id": "JEnBk5y9Ff5u",
    "outputId": "a7185470-7290-40d2-c726-249cb3853b38"
   },
   "outputs": [
    {
     "name": "stdout",
     "output_type": "stream",
     "text": [
      "Number is 2 and square is 4\n",
      "Number is 4 and square is 16\n",
      "Number is 6 and square is 36\n",
      "Number is 8 and square is 64\n",
      "Number is 10 and square is 100\n",
      "Number is 12 and square is 144\n",
      "Number is 14 and square is 196\n",
      "Number is 16 and square is 256\n",
      "Number is 18 and square is 324\n",
      "Number is 20 and square is 400\n",
      "Number is 22 and square is 484\n",
      "Number is 24 and square is 576\n",
      "Number is 26 and square is 676\n",
      "Number is 28 and square is 784\n",
      "Number is 30 and square is 900\n",
      "Number is 32 and square is 1024\n",
      "Number is 34 and square is 1156\n",
      "Number is 36 and square is 1296\n",
      "Number is 38 and square is 1444\n",
      "Number is 40 and square is 1600\n",
      "Number is 42 and square is 1764\n",
      "Number is 44 and square is 1936\n",
      "Number is 46 and square is 2116\n",
      "Number is 48 and square is 2304\n",
      "\n",
      "Number is 2 and square is 4\n",
      "Number is 4 and square is 16\n",
      "Number is 6 and square is 36\n",
      "Number is 8 and square is 64\n",
      "Number is 10 and square is 100\n",
      "Number is 12 and square is 144\n",
      "Number is 14 and square is 196\n",
      "Number is 16 and square is 256\n",
      "Number is 18 and square is 324\n",
      "Number is 20 and square is 400\n",
      "Number is 22 and square is 484\n",
      "Number is 24 and square is 576\n",
      "Number is 26 and square is 676\n",
      "Number is 28 and square is 784\n",
      "Number is 30 and square is 900\n",
      "Number is 32 and square is 1024\n",
      "Number is 34 and square is 1156\n",
      "Number is 36 and square is 1296\n",
      "Number is 38 and square is 1444\n",
      "Number is 40 and square is 1600\n",
      "Number is 42 and square is 1764\n",
      "Number is 44 and square is 1936\n",
      "Number is 46 and square is 2116\n",
      "Number is 48 and square is 2304\n",
      "Number is 50 and square is 2500\n",
      "Number is 52 and square is 2704\n",
      "Number is 54 and square is 2916\n",
      "Number is 56 and square is 3136\n",
      "Number is 58 and square is 3364\n",
      "Number is 60 and square is 3600\n",
      "Number is 62 and square is 3844\n",
      "Number is 64 and square is 4096\n",
      "Number is 66 and square is 4356\n",
      "Number is 68 and square is 4624\n",
      "Number is 70 and square is 4900\n",
      "Number is 72 and square is 5184\n",
      "Number is 74 and square is 5476\n",
      "Number is 76 and square is 5776\n",
      "Number is 78 and square is 6084\n",
      "Number is 80 and square is 6400\n",
      "Number is 82 and square is 6724\n",
      "Number is 84 and square is 7056\n",
      "Number is 86 and square is 7396\n",
      "Number is 88 and square is 7744\n",
      "Number is 90 and square is 8100\n",
      "Number is 92 and square is 8464\n",
      "Number is 94 and square is 8836\n",
      "Number is 96 and square is 9216\n",
      "Number is 98 and square is 9604\n"
     ]
    }
   ],
   "source": [
    "\"\"\"\n",
    "(5) Write a Python program to print all the even numbers and their squares\n",
    "within the given range.\n",
    "  (a) range(1,50)\n",
    "  (b) range(1,100)\n",
    "\"\"\"\n",
    "\n",
    "for i in range(1, 50):\n",
    "  if i % 2 == 0:\n",
    "    print(f'Number is {i} and square is {i*i}')\n",
    "\n",
    "print()\n",
    "\n",
    "for i in range(1, 100):\n",
    "  if i % 2 == 0:\n",
    "    print(f'Number is {i} and square is {i*i}')\n"
   ]
  },
  {
   "cell_type": "code",
   "execution_count": 6,
   "metadata": {
    "colab": {
     "base_uri": "https://localhost:8080/"
    },
    "id": "2GznPQ2sFfwd",
    "outputId": "271e175e-eb6b-48c9-f785-5f5cf92d2ab0"
   },
   "outputs": [
    {
     "name": "stdout",
     "output_type": "stream",
     "text": [
      "Enter a four-digit number: 1234\n",
      "Sum of digits of 1234 is 10\n",
      "Reverse of 1234 is 40\n"
     ]
    }
   ],
   "source": [
    "\"\"\"\n",
    "(6) Write a Python program to read a four-digit number and find its\n",
    "(a) Sum of digits\n",
    "(b) Reverse\n",
    "\"\"\"\n",
    "\n",
    "def four_digit_sum_reverse():\n",
    "  num = int(input('Enter a four-digit number: '))\n",
    "  temp = num\n",
    "\n",
    "  num_length = len(str(num))\n",
    "  if num_length != 4:\n",
    "    print(f'{num} is not a four-digit number. Enter only a four-digit number.')\n",
    "  else:\n",
    "    sum = 0\n",
    "    rev = 0\n",
    "    while temp>0:\n",
    "      digit = temp % 10\n",
    "      sum += digit\n",
    "      rev += digit * num_length\n",
    "      temp //= 10\n",
    "    print(f'Sum of digits of {num} is {sum}')\n",
    "    print(f'Reverse of {num} is {rev}')\n",
    "\n",
    "four_digit_sum_reverse()"
   ]
  },
  {
   "cell_type": "code",
   "execution_count": 7,
   "metadata": {
    "colab": {
     "base_uri": "https://localhost:8080/"
    },
    "id": "jzQQGwCXu6JP",
    "outputId": "39bde0b8-251a-4319-c67b-ed8dbf968884"
   },
   "outputs": [
    {
     "name": "stdout",
     "output_type": "stream",
     "text": [
      "Enter triangle 1 side a: 3\n",
      "Enter triangle 1 side b: 4\n",
      "Enter triangle 1 side c: 5\n",
      "Enter triangle 2 side a: 6\n",
      "Enter triangle 2 side b: 8\n",
      "Enter triangle 2 side c: 10\n",
      "Total area enclosed by triangle 1 and 2: 30.0\n",
      "Triangle 1 percent of total area: 20.0%\n",
      "Triangle 2 percent of total area: 80.0%\n"
     ]
    }
   ],
   "source": [
    "\"\"\"\n",
    "(7) Write a program to find the area of a triangle. Then find the area of two\n",
    "arbitrary triangles by entering the three sides both using the input function\n",
    "(input()). Print the total area enclosed by both triangles and each triangle’s\n",
    "contribution (%) towards it.\n",
    "\"\"\"\n",
    "from math import sqrt\n",
    "\n",
    "t1_a = float(input('Enter triangle 1 side a: '))\n",
    "t1_b = float(input('Enter triangle 1 side b: '))\n",
    "t1_c = float(input('Enter triangle 1 side c: '))\n",
    "\n",
    "t2_a = float(input('Enter triangle 2 side a: '))\n",
    "t2_b = float(input('Enter triangle 2 side b: '))\n",
    "t2_c = float(input('Enter triangle 2 side c: '))\n",
    "\n",
    "t1_s = (t1_a + t1_b + t1_c)/2\n",
    "t2_s = (t2_a + t2_b + t2_c)/2\n",
    "\n",
    "t1_area = sqrt(t1_s * (t1_s - t1_a) * (t1_s - t1_b) * (t1_s - t1_c))\n",
    "t2_area = sqrt(t2_s * (t2_s - t2_a) * (t2_s - t2_b) * (t2_s - t2_c))\n",
    "\n",
    "total_area = t1_area + t2_area\n",
    "\n",
    "print(f'Total area enclosed by triangle 1 and 2: {total_area}')\n",
    "print(f'Triangle 1 percent of total area: {(t1_area/total_area)*100}%')\n",
    "print(f'Triangle 2 percent of total area: {(t2_area/total_area)*100}%')"
   ]
  },
  {
   "cell_type": "code",
   "execution_count": 8,
   "metadata": {
    "colab": {
     "base_uri": "https://localhost:8080/"
    },
    "id": "YyR6qpMcwpAf",
    "outputId": "8630d30a-5b97-4919-8083-ff35fcc7fee0"
   },
   "outputs": [
    {
     "name": "stdout",
     "output_type": "stream",
     "text": [
      "Name: John Doe\n",
      "Name: 30\n",
      "Name: A+\n",
      "---------------------------------\n",
      "Name: Jane Smith\n",
      "Name: 25\n",
      "Name: B-\n",
      "---------------------------------\n",
      "Name: Emily Davis\n",
      "Name: 40\n",
      "Name: O+\n",
      "---------------------------------\n",
      "Name: Michael Brown\n",
      "Name: 35\n",
      "Name: AB-\n",
      "---------------------------------\n",
      "Name: William Johnson\n",
      "Name: 28\n",
      "Name: A-\n",
      "---------------------------------\n",
      "Name: Emma Wilson\n",
      "Name: 22\n",
      "Name: B+\n",
      "---------------------------------\n",
      "Name: Oliver Martinez\n",
      "Name: 33\n",
      "Name: O-\n",
      "---------------------------------\n",
      "Name: Sophia Anderson\n",
      "Name: 27\n",
      "Name: AB+\n",
      "---------------------------------\n",
      "Name: James Thomas\n",
      "Name: 45\n",
      "Name: A+\n",
      "---------------------------------\n",
      "Name: Isabella Lee\n",
      "Name: 38\n",
      "Name: B-\n",
      "---------------------------------\n"
     ]
    }
   ],
   "source": [
    "# Question 8\n",
    "\"\"\"\n",
    "(8) Given a dictionary containing the following information about 10 different\n",
    "people:\n",
    "Write a Python program that prints each person’s name, age, and blood\n",
    "group in a formatted manner. Each person’s information should be separated\n",
    "by a line of dashes (-).\n",
    "\"\"\"\n",
    "people = [\n",
    "    {\"name\": \"John Doe\", \"age\": 30, \"blood_group\": \"A+\"},\n",
    "    {\"name\": \"Jane Smith\", \"age\": 25, \"blood_group\": \"B-\"},\n",
    "    {\"name\": \"Emily Davis\", \"age\": 40, \"blood_group\": \"O+\"},\n",
    "    {\"name\": \"Michael Brown\", \"age\": 35, \"blood_group\": \"AB-\"},\n",
    "    {\"name\": \"William Johnson\", \"age\": 28, \"blood_group\": \"A-\"},\n",
    "    {\"name\": \"Emma Wilson\", \"age\": 22, \"blood_group\": \"B+\"},\n",
    "    {\"name\": \"Oliver Martinez\", \"age\": 33, \"blood_group\": \"O-\"},\n",
    "    {\"name\": \"Sophia Anderson\", \"age\": 27, \"blood_group\": \"AB+\"},\n",
    "    {\"name\": \"James Thomas\", \"age\": 45, \"blood_group\": \"A+\"},\n",
    "    {\"name\": \"Isabella Lee\", \"age\": 38, \"blood_group\": \"B-\"}\n",
    "]\n",
    "\n",
    "for person in people:\n",
    "  print(f'Name: {person[\"name\"]}')\n",
    "  print(f'Name: {person[\"age\"]}')\n",
    "  print(f'Name: {person[\"blood_group\"]}')\n",
    "  print('---------------------------------')"
   ]
  },
  {
   "cell_type": "code",
   "execution_count": 9,
   "metadata": {
    "colab": {
     "base_uri": "https://localhost:8080/"
    },
    "id": "dF2JXtOJzQ-h",
    "outputId": "ecce12b6-a1c8-4f78-8212-1338f56b75b3"
   },
   "outputs": [
    {
     "name": "stdout",
     "output_type": "stream",
     "text": [
      "['n', 'n', 'p']\n"
     ]
    }
   ],
   "source": [
    "# Question 9\n",
    "\"\"\"\n",
    "(9) Write a Python program to extract the rear elements from a tuple string as\n",
    "depicted in the following figure:\n",
    "\n",
    "Input: (\"python\", \"learn\", \"includehelp\")\n",
    "\n",
    "Output: ['n', 'n', 'p']\n",
    "\"\"\"\n",
    "tup = (\"python\", \"learn\", \"includehelp\")\n",
    "\n",
    "def rear_element(tuple_in):\n",
    "  output = []\n",
    "  for i in tuple_in:\n",
    "    output.append(i[-1])\n",
    "  return output\n",
    "\n",
    "print(rear_element(tup))"
   ]
  },
  {
   "cell_type": "code",
   "execution_count": 13,
   "metadata": {
    "colab": {
     "base_uri": "https://localhost:8080/"
    },
    "id": "ab3hjdXiz_PL",
    "outputId": "2ff0e5e9-7fa9-4ebb-b0dd-0d3584483f09"
   },
   "outputs": [
    {
     "name": "stdout",
     "output_type": "stream",
     "text": [
      "Enter the full month name: February\n",
      "Enter the year: 2024\n",
      "The number of days in February is: 29\n"
     ]
    }
   ],
   "source": [
    "# Question 10\n",
    "\"\"\"\n",
    "(10) Declare a list/tuple containing all the twelve months. Write a Python program\n",
    "that converts a month name entered via the Python console to the number\n",
    "of days in that month (Consider leap year as well the code).\n",
    "\"\"\"\n",
    "months = ['January', 'February', 'March', 'April', 'May', 'June',\n",
    "          'July', 'August', 'September', 'October', 'November', 'December']\n",
    "\n",
    "def check_leap_year(year):\n",
    "    if (year % 4 == 0 and year % 100 != 0) or (year % 400 == 0):\n",
    "        return True\n",
    "    else:\n",
    "        return False\n",
    "\n",
    "month_name = input('Enter the full month name: ')\n",
    "\n",
    "if month_name.capitalize() in ['January', 'March', 'May', 'July', 'August', 'October', 'December']:\n",
    "  print(f'The number of days in {month_name.capitalize()} is: 31')\n",
    "elif month_name.capitalize() in ['April', 'June', 'September', 'November']:\n",
    "  print(f'The number of days in {month_name.capitalize()} is: 30')\n",
    "elif month_name.capitalize() == 'February':\n",
    "  year = int(input('Enter the year: '))\n",
    "  if check_leap_year(year):\n",
    "    print(f'The number of days in {month_name.capitalize()} is: 29')\n",
    "  else:\n",
    "    print(f'The number of days in {month_name.capitalize()} is: 28')\n",
    "else:\n",
    "   print(f'\"{month_name}\" is not a name of a month. Enter a valid full month name.')"
   ]
  }
 ],
 "metadata": {
  "colab": {
   "provenance": []
  },
  "kernelspec": {
   "display_name": "Python 3 (ipykernel)",
   "language": "python",
   "name": "python3"
  },
  "language_info": {
   "codemirror_mode": {
    "name": "ipython",
    "version": 3
   },
   "file_extension": ".py",
   "mimetype": "text/x-python",
   "name": "python",
   "nbconvert_exporter": "python",
   "pygments_lexer": "ipython3",
   "version": "3.11.5"
  }
 },
 "nbformat": 4,
 "nbformat_minor": 1
}
